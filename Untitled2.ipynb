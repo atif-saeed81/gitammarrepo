{
 "cells": [
  {
   "cell_type": "code",
   "execution_count": null,
   "id": "71acc589",
   "metadata": {},
   "outputs": [],
   "source": [
    "# Body Mass Index (BMI)\n",
    "# input weight\n",
    "# Height\n",
    "# BMI (Ask yourself your height)\n",
    "# Weight\n",
    "# Calculate BMI\n",
    "# print BMI (My Name is ........, and my BMI is .......)\n"
   ]
  },
  {
   "cell_type": "code",
   "execution_count": null,
   "id": "70a1e3b1",
   "metadata": {},
   "outputs": [],
   "source": [
    "# Weight in KG/Height in m and its square."
   ]
  },
  {
   "cell_type": "code",
   "execution_count": null,
   "id": "bf7efeca",
   "metadata": {},
   "outputs": [],
   "source": [
    "height = input(\"What is your height? \")"
   ]
  },
  {
   "cell_type": "code",
   "execution_count": null,
   "id": "23ef75a9",
   "metadata": {},
   "outputs": [],
   "source": []
  },
  {
   "cell_type": "code",
   "execution_count": null,
   "id": "8c01f243",
   "metadata": {},
   "outputs": [],
   "source": []
  },
  {
   "cell_type": "code",
   "execution_count": null,
   "id": "47d63ee1",
   "metadata": {},
   "outputs": [],
   "source": []
  },
  {
   "cell_type": "code",
   "execution_count": null,
   "id": "c3d01d84",
   "metadata": {},
   "outputs": [],
   "source": []
  }
 ],
 "metadata": {
  "kernelspec": {
   "display_name": "Python 3 (ipykernel)",
   "language": "python",
   "name": "python3"
  },
  "language_info": {
   "codemirror_mode": {
    "name": "ipython",
    "version": 3
   },
   "file_extension": ".py",
   "mimetype": "text/x-python",
   "name": "python",
   "nbconvert_exporter": "python",
   "pygments_lexer": "ipython3",
   "version": "3.11.4"
  }
 },
 "nbformat": 4,
 "nbformat_minor": 5
}
