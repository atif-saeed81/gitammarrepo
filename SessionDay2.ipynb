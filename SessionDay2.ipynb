{
 "cells": [
  {
   "cell_type": "code",
   "execution_count": null,
   "id": "74c41b03",
   "metadata": {},
   "outputs": [],
   "source": [
    "# Body Mass Index (BMI)\n",
    "# input weight\n",
    "# Height\n",
    "# BMI (Ask yourself your height)\n",
    "# Weight\n",
    "# Calculate BMI\n",
    "# print BMI (My Name is ........, and my BMI is .......)"
   ]
  },
  {
   "cell_type": "code",
   "execution_count": null,
   "id": "5822b689",
   "metadata": {},
   "outputs": [],
   "source": [
    "# Weight in KG/Height in m and its square."
   ]
  },
  {
   "cell_type": "code",
   "execution_count": 1,
   "id": "a54202db",
   "metadata": {},
   "outputs": [
    {
     "name": "stdout",
     "output_type": "stream",
     "text": [
      "What is your height? 1.74\n"
     ]
    }
   ],
   "source": [
    "height = input(\"What is your height? \")\n"
   ]
  },
  {
   "cell_type": "code",
   "execution_count": 5,
   "id": "c47fa94d",
   "metadata": {},
   "outputs": [],
   "source": [
    "height = float(height)"
   ]
  },
  {
   "cell_type": "code",
   "execution_count": 2,
   "id": "3f82b79f",
   "metadata": {},
   "outputs": [
    {
     "name": "stdout",
     "output_type": "stream",
     "text": [
      "What is your weight? 85\n"
     ]
    }
   ],
   "source": [
    "weight = input (\"What is your weight? \")"
   ]
  },
  {
   "cell_type": "code",
   "execution_count": 6,
   "id": "23ea72d8",
   "metadata": {},
   "outputs": [],
   "source": [
    "weight = float(weight)"
   ]
  },
  {
   "cell_type": "code",
   "execution_count": 3,
   "id": "76532e90",
   "metadata": {},
   "outputs": [
    {
     "name": "stdout",
     "output_type": "stream",
     "text": [
      "What is your name? atif\n"
     ]
    }
   ],
   "source": [
    "name = input(\"What is your name? \")"
   ]
  },
  {
   "cell_type": "code",
   "execution_count": 7,
   "id": "52ae1bfb",
   "metadata": {},
   "outputs": [
    {
     "data": {
      "text/plain": [
       "28.075042938300964"
      ]
     },
     "execution_count": 7,
     "metadata": {},
     "output_type": "execute_result"
    }
   ],
   "source": [
    "BMI= weight / height**2 \n",
    "BMI"
   ]
  },
  {
   "cell_type": "code",
   "execution_count": 9,
   "id": "ea6fb8a1",
   "metadata": {},
   "outputs": [
    {
     "name": "stdout",
     "output_type": "stream",
     "text": [
      "My name is  atif and my BMI is  28.075042938300964\n"
     ]
    }
   ],
   "source": [
    "print(\"My name is \", name, \"and my BMI is \" ,BMI)"
   ]
  },
  {
   "cell_type": "code",
   "execution_count": null,
   "id": "4fe2146e",
   "metadata": {},
   "outputs": [],
   "source": []
  },
  {
   "cell_type": "code",
   "execution_count": null,
   "id": "dd4c4064",
   "metadata": {},
   "outputs": [],
   "source": []
  },
  {
   "cell_type": "code",
   "execution_count": null,
   "id": "bd720797",
   "metadata": {},
   "outputs": [],
   "source": []
  },
  {
   "cell_type": "code",
   "execution_count": null,
   "id": "d0e29baa",
   "metadata": {},
   "outputs": [],
   "source": []
  },
  {
   "cell_type": "code",
   "execution_count": null,
   "id": "aa091c61",
   "metadata": {},
   "outputs": [],
   "source": []
  },
  {
   "cell_type": "code",
   "execution_count": null,
   "id": "a96aa450",
   "metadata": {},
   "outputs": [],
   "source": []
  },
  {
   "cell_type": "code",
   "execution_count": null,
   "id": "91a98d9c",
   "metadata": {},
   "outputs": [],
   "source": []
  },
  {
   "cell_type": "code",
   "execution_count": null,
   "id": "551a0fa5",
   "metadata": {},
   "outputs": [],
   "source": []
  },
  {
   "cell_type": "code",
   "execution_count": null,
   "id": "900841bf",
   "metadata": {},
   "outputs": [],
   "source": []
  }
 ],
 "metadata": {
  "kernelspec": {
   "display_name": "Python 3 (ipykernel)",
   "language": "python",
   "name": "python3"
  },
  "language_info": {
   "codemirror_mode": {
    "name": "ipython",
    "version": 3
   },
   "file_extension": ".py",
   "mimetype": "text/x-python",
   "name": "python",
   "nbconvert_exporter": "python",
   "pygments_lexer": "ipython3",
   "version": "3.11.4"
  }
 },
 "nbformat": 4,
 "nbformat_minor": 5
}
